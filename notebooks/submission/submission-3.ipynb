{
 "cells": [
  {
   "cell_type": "code",
   "execution_count": null,
   "metadata": {},
   "outputs": [],
   "source": [
    "# !pip download -r requirements.txt --quiet # run this once, with internet\n",
    "# download and upload as dataset\n",
    "! mkdir -p /kaggle/working/asciitree\n",
    "! cp /kaggle/input/d/etiennedoumazane/asciitree/asciitree-0.3.3.tar.gz_ /kaggle/working/asciitree/asciitree-0.3.3.tar.gz\n",
    "! pip install asciitree --no-index --find-links /kaggle/working/asciitree --quiet\n",
    "! pip install zarr --no-index --find-links /kaggle/input/zarr-dependencies --quiet"
   ]
  },
  {
   "cell_type": "code",
   "execution_count": null,
   "metadata": {},
   "outputs": [],
   "source": [
    "import os\n",
    "from pathlib import Path\n",
    "import numpy as np\n",
    "import pandas as pd\n",
    "import zarr\n",
    "from skimage.feature import peak_local_max\n",
    "from skimage.filters import gaussian\n"
   ]
  },
  {
   "cell_type": "code",
   "execution_count": 6,
   "metadata": {},
   "outputs": [],
   "source": [
    "kaggle_data_dir = '/kaggle/input/czii-cryo-et-object-identification'\n",
    "data_dir = Path(os.environ.get(\"DATA_DIR\", kaggle_data_dir))\n",
    "\n",
    "PARTICLE_TYPES = ['apo-ferritin',\n",
    " 'beta-galactosidase',\n",
    " 'ribosome',\n",
    " 'thyroglobulin',\n",
    " 'virus-like-particle']\n",
    "\n",
    "FREQUENCIES = {\n",
    "    \"apo-ferritin\": 0.3,\n",
    "    \"beta-galactosidase\": 0.1,\n",
    "    \"ribosome\": 0.3,\n",
    "    \"thyroglobulin\": 0.2,\n",
    "    \"virus-like-particle\": 0.1\n",
    "}\n",
    "\n",
    "SCALE = (10, 10, 10)\n"
   ]
  },
  {
   "cell_type": "code",
   "execution_count": 9,
   "metadata": {},
   "outputs": [],
   "source": [
    "def generate_experiment_list(data_dir):\n",
    "    return os.listdir(data_dir / 'test/static/ExperimentRuns')\n",
    "\n",
    "def generate_path_list(data_dir):\n",
    "    experiments = generate_experiment_list(data_dir)\n",
    "    return [data_dir / f'test/static/ExperimentRuns/{experiment}/VoxelSpacing10.000/denoised.zarr' for experiment in experiments]\n",
    "\n",
    "def get_coordinates(path):\n",
    "    arr = zarr.open(path)[0]\n",
    "    coordinates_all = []\n",
    "    for sigma in [5, 10, 15]:\n",
    "        gaussian_filtered = gaussian(arr, sigma)\n",
    "        coordinates = peak_local_max(1-gaussian_filtered, min_distance=sigma) * np.array(SCALE)\n",
    "        coordinates_all.extend(coordinates)\n",
    "    return coordinates_all\n",
    "\n",
    "def generate_random_particle_list(n_particles):\n",
    "    particles = []\n",
    "    for _ in range(n_particles):\n",
    "        particle_type = np.random.choice(list(FREQUENCIES.keys()), p=list(FREQUENCIES.values()))\n",
    "        particles.append(particle_type)\n",
    "    return particles\n",
    "\n",
    "\n",
    "def generate_table(data_dir):\n",
    "    paths = generate_path_list(data_dir)\n",
    "    dfs = []\n",
    "    for path in paths:\n",
    "        print(path)\n",
    "        coordinates = get_coordinates(path)\n",
    "        particles = generate_random_particle_list(len(coordinates))\n",
    "        df = pd.DataFrame(coordinates, columns=[\"x\", \"y\", \"z\"])\n",
    "        df[\"experiment\"] = path.parts[-3]\n",
    "        df[\"particle_type\"] = particles\n",
    "        dfs.append(df)\n",
    "    df = pd.concat(dfs, ignore_index=True)\n",
    "    df = df.reset_index(drop=False).rename(columns={\"index\": \"id\"})\n",
    "    return df\n"
   ]
  },
  {
   "cell_type": "code",
   "execution_count": 10,
   "metadata": {},
   "outputs": [
    {
     "name": "stdout",
     "output_type": "stream",
     "text": [
      "/Users/edmz/code/kaggle/cryoet/data/test/static/ExperimentRuns/TS_5_4/VoxelSpacing10.000/denoised.zarr\n",
      "/Users/edmz/code/kaggle/cryoet/data/test/static/ExperimentRuns/TS_6_4/VoxelSpacing10.000/denoised.zarr\n",
      "/Users/edmz/code/kaggle/cryoet/data/test/static/ExperimentRuns/TS_69_2/VoxelSpacing10.000/denoised.zarr\n"
     ]
    }
   ],
   "source": [
    "df = generate_table(data_dir)\n",
    "df.to_csv(data_dir / \"submission-3.csv\", index=False)"
   ]
  },
  {
   "cell_type": "code",
   "execution_count": 5,
   "metadata": {},
   "outputs": [],
   "source": [
    "df.to_csv(data_dir / \"submission-3.csv\", index=False)"
   ]
  }
 ],
 "metadata": {
  "kernelspec": {
   "display_name": "cryoet",
   "language": "python",
   "name": "python3"
  },
  "language_info": {
   "codemirror_mode": {
    "name": "ipython",
    "version": 3
   },
   "file_extension": ".py",
   "mimetype": "text/x-python",
   "name": "python",
   "nbconvert_exporter": "python",
   "pygments_lexer": "ipython3",
   "version": "3.10.15"
  }
 },
 "nbformat": 4,
 "nbformat_minor": 2
}
