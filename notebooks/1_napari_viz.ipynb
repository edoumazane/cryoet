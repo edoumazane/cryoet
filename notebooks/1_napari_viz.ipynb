{
 "cells": [
  {
   "cell_type": "code",
   "execution_count": null,
   "metadata": {},
   "outputs": [],
   "source": [
    "%load_ext autoreload\n",
    "%autoreload 2\n",
    "import os\n",
    "from pathlib import Path\n",
    "from natsort import natsorted\n",
    "import pandas as pd\n",
    "import zarr\n",
    "\n",
    "src_dir = os.environ.get('SRC_DIR')\n",
    "import sys\n",
    "if src_dir and src_dir not in sys.path:\n",
    "    sys.path.append(src_dir)\n",
    "from yaml_viz import views_yaml"
   ]
  },
  {
   "cell_type": "code",
   "execution_count": null,
   "metadata": {},
   "outputs": [],
   "source": [
    "repo_dir = Path(os.environ['REPO_DIR'])\n",
    "data_dir = Path(os.environ['DATA_DIR'])"
   ]
  },
  {
   "cell_type": "code",
   "execution_count": null,
   "metadata": {},
   "outputs": [],
   "source": [
    "viewers = views_yaml(repo_dir / \"notebooks/viz_params/0_one_experiment_all_images.yaml\")"
   ]
  },
  {
   "cell_type": "code",
   "execution_count": null,
   "metadata": {},
   "outputs": [],
   "source": [
    "viewers = views_yaml(repo_dir / \"notebooks/viz_params/1_one_image_all_experiments.yaml\")"
   ]
  },
  {
   "cell_type": "code",
   "execution_count": null,
   "metadata": {},
   "outputs": [],
   "source": [
    "for viewer in viewers.values():\n",
    "    viewer.scale_bar.visible = True\n",
    "    viewer.scale_bar.unit = 'angstrom'"
   ]
  },
  {
   "cell_type": "code",
   "execution_count": null,
   "metadata": {},
   "outputs": [],
   "source": [
    "particles = pd.read_csv(data_dir / 'objects.csv')"
   ]
  },
  {
   "cell_type": "code",
   "execution_count": null,
   "metadata": {},
   "outputs": [],
   "source": [
    "colormap_cycle = [\"blue\", \"red\", \"green\", \"yellow\", \"purple\", \"orange\"]\n",
    "for experiment in viewers:\n",
    "    sub_particles = particles[particles.experiment == experiment]\n",
    "    viewers[experiment].add_points(data=sub_particles[[\"z\", \"y\", \"x\"]],\n",
    "                                 properties=sub_particles[[\"x\", \"y\", \"z\", \"particle_type\"]],\n",
    "                                 name=\"particles\",\n",
    "                                 face_color=\"particle_type\",\n",
    "                                 opacity=0.8,\n",
    "                                 symbol=\"star\",\n",
    "                                 border_color=\"#FFFFFF\",\n",
    "                                 face_color_cycle=colormap_cycle,\n",
    "                                 size=250,\n",
    "                                 out_of_slice_display=True,)"
   ]
  },
  {
   "cell_type": "code",
   "execution_count": null,
   "metadata": {},
   "outputs": [],
   "source": [
    "sub_particles[[\"z\", \"y\", \"x\"]]"
   ]
  }
 ],
 "metadata": {
  "kernelspec": {
   "display_name": "cryoet",
   "language": "python",
   "name": "python3"
  },
  "language_info": {
   "codemirror_mode": {
    "name": "ipython",
    "version": 3
   },
   "file_extension": ".py",
   "mimetype": "text/x-python",
   "name": "python",
   "nbconvert_exporter": "python",
   "pygments_lexer": "ipython3",
   "version": "3.10.15"
  }
 },
 "nbformat": 4,
 "nbformat_minor": 2
}
