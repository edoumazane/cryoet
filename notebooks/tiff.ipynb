{
 "cells": [
  {
   "cell_type": "code",
   "execution_count": 15,
   "metadata": {},
   "outputs": [],
   "source": [
    "import tifffile\n",
    "import numpy as np"
   ]
  },
  {
   "cell_type": "code",
   "execution_count": 2,
   "metadata": {},
   "outputs": [
    {
     "name": "stdout",
     "output_type": "stream",
     "text": [
      "The autoreload extension is already loaded. To reload it, use:\n",
      "  %reload_ext autoreload\n"
     ]
    }
   ],
   "source": [
    "%load_ext autoreload\n",
    "%autoreload 2\n",
    "import os\n",
    "from pathlib import Path\n",
    "from natsort import natsorted\n",
    "import pandas as pd\n",
    "import zarr\n",
    "import sys\n",
    "from skimage.feature import peak_local_max\n",
    "from skimage.filters import gaussian\n",
    "import napari\n",
    "src_dir = os.environ.get('SRC_DIR')\n",
    "if src_dir and src_dir not in sys.path:\n",
    "    sys.path.append(src_dir)\n",
    "from data import get_experiment_paths\n",
    "data_dir = Path(os.environ.get('DATA_DIR'))\n",
    "paths = get_experiment_paths(data_dir, \"TS_5_4\")"
   ]
  },
  {
   "cell_type": "code",
   "execution_count": null,
   "metadata": {},
   "outputs": [],
   "source": []
  },
  {
   "cell_type": "code",
   "execution_count": 12,
   "metadata": {},
   "outputs": [],
   "source": [
    "EXPERIMENTS = ['TS_5_4', 'TS_6_4', 'TS_69_2', 'TS_6_6', 'TS_73_6', 'TS_86_3',\n",
    "       'TS_99_9']"
   ]
  },
  {
   "cell_type": "code",
   "execution_count": 17,
   "metadata": {},
   "outputs": [],
   "source": [
    "for experiment in EXPERIMENTS:\n",
    "    paths = get_experiment_paths(data_dir, experiment)\n",
    "    path = data_dir / paths[\"images\"][\"denoised\"]\n",
    "    arr = - np.array(zarr.open(path)[0])\n",
    "    arr -= arr.min()\n",
    "    arr /= arr.max()\n",
    "    tifffile.imwrite(data_dir / (experiment + \".tif\"), arr)"
   ]
  },
  {
   "cell_type": "code",
   "execution_count": null,
   "metadata": {},
   "outputs": [],
   "source": []
  }
 ],
 "metadata": {
  "kernelspec": {
   "display_name": "cryoet",
   "language": "python",
   "name": "python3"
  },
  "language_info": {
   "codemirror_mode": {
    "name": "ipython",
    "version": 3
   },
   "file_extension": ".py",
   "mimetype": "text/x-python",
   "name": "python",
   "nbconvert_exporter": "python",
   "pygments_lexer": "ipython3",
   "version": "3.10.15"
  }
 },
 "nbformat": 4,
 "nbformat_minor": 2
}
