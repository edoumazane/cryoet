{
 "cells": [
  {
   "cell_type": "code",
   "execution_count": 52,
   "metadata": {},
   "outputs": [
    {
     "name": "stdout",
     "output_type": "stream",
     "text": [
      "The autoreload extension is already loaded. To reload it, use:\n",
      "  %reload_ext autoreload\n"
     ]
    }
   ],
   "source": [
    "%load_ext autoreload\n",
    "%autoreload 2\n",
    "import os\n",
    "from pathlib import Path\n",
    "from natsort import natsorted\n",
    "import pandas as pd\n",
    "import zarr\n",
    "import sys\n",
    "from skimage.feature import peak_local_max\n",
    "from skimage.filters import gaussian\n",
    "import napari\n",
    "src_dir = os.environ.get('SRC_DIR')\n",
    "if src_dir and src_dir not in sys.path:\n",
    "    sys.path.append(src_dir)\n",
    "from data import get_experiment_paths\n",
    "data_dir = Path(os.environ.get('DATA_DIR'))\n",
    "paths = get_experiment_paths(data_dir, \"TS_5_4\")"
   ]
  },
  {
   "cell_type": "code",
   "execution_count": null,
   "metadata": {},
   "outputs": [],
   "source": [
    "arr = zarr.open(data_dir / paths[\"images\"][\"denoised\"])[0]\n"
   ]
  },
  {
   "cell_type": "code",
   "execution_count": null,
   "metadata": {},
   "outputs": [],
   "source": []
  },
  {
   "cell_type": "code",
   "execution_count": 9,
   "metadata": {},
   "outputs": [],
   "source": [
    "v = napari.Viewer()"
   ]
  },
  {
   "cell_type": "code",
   "execution_count": 10,
   "metadata": {},
   "outputs": [
    {
     "data": {
      "text/plain": [
       "<Image layer 'gaussian_filtered' at 0x33cc5bee0>"
      ]
     },
     "execution_count": 10,
     "metadata": {},
     "output_type": "execute_result"
    }
   ],
   "source": [
    "# v.add_image(arr)\n",
    "v.add_image(gaussian_filtered)"
   ]
  },
  {
   "cell_type": "code",
   "execution_count": 28,
   "metadata": {},
   "outputs": [],
   "source": [
    "coordinates_all = []\n",
    "for sigma in [5, 10, 15]:\n",
    "    gaussian_filtered = gaussian(arr, sigma)\n",
    "    coordinates = peak_local_max(1-gaussian_filtered, min_distance=sigma)\n",
    "    v.add_image(gaussian_filtered)\n",
    "    v.add_points(coordinates)\n",
    "    coordinates_all.append(coordinates)"
   ]
  },
  {
   "cell_type": "code",
   "execution_count": 29,
   "metadata": {},
   "outputs": [],
   "source": [
    "import numpy as np\n",
    "coordinates_all = np.vstack(coordinates_all)"
   ]
  },
  {
   "cell_type": "code",
   "execution_count": 22,
   "metadata": {},
   "outputs": [],
   "source": [
    "from sklearn.neighbors import NearestNeighbors"
   ]
  },
  {
   "cell_type": "code",
   "execution_count": 23,
   "metadata": {},
   "outputs": [],
   "source": [
    "particles = pd.read_csv(data_dir / \"objects.csv\")"
   ]
  },
  {
   "cell_type": "code",
   "execution_count": 26,
   "metadata": {},
   "outputs": [],
   "source": [
    "particles = particles.query(\"experiment == 'TS_5_4'\")[[\"x\", \"y\", \"z\"]]"
   ]
  },
  {
   "cell_type": "code",
   "execution_count": 30,
   "metadata": {},
   "outputs": [
    {
     "data": {
      "text/plain": [
       "(            x         y         z\n",
       " 0    4601.271   601.066   600.934\n",
       " 1    4803.789   455.425   514.016\n",
       " 2    4715.436   825.374   802.166\n",
       " 3    5003.275   782.745   802.480\n",
       " 4     710.459  3815.845  1405.435\n",
       " ..        ...       ...       ...\n",
       " 135  2175.491  3100.549   452.861\n",
       " 136  2335.068  4957.432   703.716\n",
       " 137  2752.287  5760.574   881.249\n",
       " 138  2613.583  2253.208   884.042\n",
       " 139   534.129  1666.452  1038.000\n",
       " \n",
       " [140 rows x 3 columns],\n",
       " array([[ 70, 384, 617],\n",
       "        [ 24, 223, 620],\n",
       "        [100, 435, 613],\n",
       "        ...,\n",
       "        [ 87, 265, 164],\n",
       "        [ 76,  62,  26],\n",
       "        [137, 521,  45]]))"
      ]
     },
     "execution_count": 30,
     "metadata": {},
     "output_type": "execute_result"
    }
   ],
   "source": [
    "particles, coordinates_all"
   ]
  },
  {
   "cell_type": "code",
   "execution_count": 48,
   "metadata": {},
   "outputs": [
    {
     "data": {
      "text/plain": [
       "x    2939.361214\n",
       "y    3137.947057\n",
       "z     717.194236\n",
       "dtype: float64"
      ]
     },
     "execution_count": 48,
     "metadata": {},
     "output_type": "execute_result"
    }
   ],
   "source": [
    "particles.mean()"
   ]
  },
  {
   "cell_type": "code",
   "execution_count": 51,
   "metadata": {},
   "outputs": [
    {
     "data": {
      "text/plain": [
       "array([3048.93828452, 3025.08368201,  972.31433054])"
      ]
     },
     "execution_count": 51,
     "metadata": {},
     "output_type": "execute_result"
    }
   ],
   "source": [
    "(coordinates_all*10)[:,::-1].mean(axis=0)"
   ]
  },
  {
   "cell_type": "code",
   "execution_count": 44,
   "metadata": {},
   "outputs": [],
   "source": [
    "distances = NearestNeighbors(n_neighbors=2).fit((coordinates_all*10)[:,::-1]).kneighbors(particles.values)[0][:, 0]"
   ]
  },
  {
   "cell_type": "code",
   "execution_count": 46,
   "metadata": {},
   "outputs": [
    {
     "data": {
      "text/plain": [
       "140"
      ]
     },
     "execution_count": 46,
     "metadata": {},
     "output_type": "execute_result"
    }
   ],
   "source": [
    "len(distances)"
   ]
  }
 ],
 "metadata": {
  "kernelspec": {
   "display_name": "cryoet",
   "language": "python",
   "name": "python3"
  },
  "language_info": {
   "codemirror_mode": {
    "name": "ipython",
    "version": 3
   },
   "file_extension": ".py",
   "mimetype": "text/x-python",
   "name": "python",
   "nbconvert_exporter": "python",
   "pygments_lexer": "ipython3",
   "version": "3.10.15"
  }
 },
 "nbformat": 4,
 "nbformat_minor": 2
}
