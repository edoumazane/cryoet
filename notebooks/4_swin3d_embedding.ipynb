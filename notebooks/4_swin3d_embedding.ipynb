{
 "cells": [
  {
   "cell_type": "code",
   "execution_count": null,
   "metadata": {},
   "outputs": [],
   "source": [
    "from torch.utils.data import Dataset, DataLoader\n",
    "import torch\n",
    "import torch.nn as nn\n",
    "import numpy as np\n",
    "import os\n",
    "from pathlib import Path\n",
    "import sys\n",
    "\n",
    "\n",
    "tri_path = os.environ.get('TRIPATH_DIR')\n",
    "if tri_path and tri_path not in sys.path:\n",
    "    sys.path.append(tri_path)\n",
    "from models.feature_extractor import swin3d_b\n",
    "from tqdm import tqdm\n"
   ]
  },
  {
   "cell_type": "code",
   "execution_count": 10,
   "metadata": {},
   "outputs": [],
   "source": [
    "class PatchDataset(Dataset):\n",
    "    def __init__(self, paths):\n",
    "        self.paths = paths\n",
    "\n",
    "    def __len__(self):\n",
    "        return len(self.paths)\n",
    "\n",
    "    def __getitem__(self, idx):\n",
    "        path = self.paths[idx]\n",
    "        patch = np.load(path)\n",
    "        patch = torch.from_numpy(patch).float()\n",
    "        patch = patch.unsqueeze(0)\n",
    "        patch = patch.repeat(3,1,1,1)\n",
    "        return patch, str(path)"
   ]
  },
  {
   "cell_type": "code",
   "execution_count": 11,
   "metadata": {},
   "outputs": [],
   "source": [
    "class PatchEncoder(nn.Module):\n",
    "    def __init__(self):\n",
    "        super().__init__()\n",
    "        self.encoder = swin3d_b()\n",
    "        self.encoder.load_weights()\n",
    "\n",
    "    def forward(self, x):\n",
    "        x = self.encoder(x)\n",
    "        return x"
   ]
  },
  {
   "cell_type": "code",
   "execution_count": 12,
   "metadata": {},
   "outputs": [
    {
     "name": "stdout",
     "output_type": "stream",
     "text": [
      "Loading pretrained video weights\n"
     ]
    }
   ],
   "source": [
    "data_dir = Path(os.environ['DATA_DIR'])\n",
    "patch_dir = data_dir / \"patches\"\n",
    "paths = list(patch_dir.rglob(\"*.npy\"))\n",
    "dataset = PatchDataset(paths)\n",
    "dataloader = DataLoader(dataset, batch_size=32, shuffle=False)\n",
    "encoder = PatchEncoder()"
   ]
  },
  {
   "cell_type": "code",
   "execution_count": 17,
   "metadata": {},
   "outputs": [
    {
     "name": "stderr",
     "output_type": "stream",
     "text": [
      "100%|██████████| 39/39 [01:37<00:00,  2.50s/it]\n"
     ]
    }
   ],
   "source": [
    "for i, (patch, path) in enumerate(tqdm(dataloader)):\n",
    "    with torch.no_grad():\n",
    "        patch = encoder(patch)\n",
    "    for p, pth in zip(patch, path):\n",
    "        pth = Path(pth)\n",
    "        save_path = pth.parent.parent / \"embeddings\" / (pth.parent.name + \"_\" + pth.stem + \".pt\")\n",
    "        if not save_path.parent.exists():\n",
    "            save_path.parent.mkdir()\n",
    "        torch.save(p, save_path)\n"
   ]
  }
 ],
 "metadata": {
  "kernelspec": {
   "display_name": "cryoet",
   "language": "python",
   "name": "python3"
  },
  "language_info": {
   "codemirror_mode": {
    "name": "ipython",
    "version": 3
   },
   "file_extension": ".py",
   "mimetype": "text/x-python",
   "name": "python",
   "nbconvert_exporter": "python",
   "pygments_lexer": "ipython3",
   "version": "3.10.15"
  }
 },
 "nbformat": 4,
 "nbformat_minor": 2
}
